{
 "cells": [
  {
   "cell_type": "code",
   "execution_count": 2,
   "id": "29f14cde-9994-466e-b6a6-c00cca689183",
   "metadata": {},
   "outputs": [
    {
     "name": "stdout",
     "output_type": "stream",
     "text": [
      "E\n",
      "p\n",
      "i\n",
      "c\n",
      "o\n",
      "d\n",
      "e\n"
     ]
    }
   ],
   "source": [
    "# Esercizio Abbiamo la stringa: nome_scuola = \"Epicode\" Stampare ogni carattere della stringa, uno su ogni riga, utilizzando un costrutto while.\n",
    "nome_scuola = \"Epicode\"\n",
    "indice = 0\n",
    "\n",
    "while indice < len(nome_scuola):\n",
    "    print(nome_scuola[indice])\n",
    "    indice += 1\n"
   ]
  },
  {
   "cell_type": "code",
   "execution_count": 4,
   "id": "b64e4167-e9f0-40dd-b7c5-55d00f7fb70a",
   "metadata": {},
   "outputs": [
    {
     "name": "stdout",
     "output_type": "stream",
     "text": [
      "0\n",
      "1\n",
      "2\n",
      "3\n",
      "4\n",
      "5\n",
      "6\n",
      "7\n",
      "8\n",
      "9\n",
      "10\n",
      "11\n",
      "12\n",
      "13\n",
      "14\n",
      "15\n",
      "16\n",
      "17\n",
      "18\n",
      "19\n",
      "20\n"
     ]
    }
   ],
   "source": [
    "# Esercizio Stampare a video tutti i numeri da 0 a 20 utilizzando il costrutto while. Utilizzeremo: • un ciclo while • la funzione print() • una variabile, che dovrà essere inizializzata • una procedura di incremento\n",
    "# Inizializziamo la variabile contatore\n",
    "numero = 0\n",
    "\n",
    "# Utilizziamo un ciclo while per stampare i numeri da 0 a 20\n",
    "while numero <= 20:\n",
    "    print(numero)\n",
    "    # Incrementiamo la variabile di 1 ad ogni iterazione\n",
    "    numero += 1\n"
   ]
  },
  {
   "cell_type": "code",
   "execution_count": 6,
   "id": "e03ddc4d-d14b-4955-b772-728bfeb0f140",
   "metadata": {},
   "outputs": [
    {
     "name": "stdout",
     "output_type": "stream",
     "text": [
      "2^0 = 1\n",
      "2^1 = 2\n",
      "2^2 = 4\n",
      "2^3 = 8\n",
      "2^4 = 16\n",
      "2^5 = 32\n",
      "2^6 = 64\n",
      "2^7 = 128\n",
      "2^8 = 256\n",
      "2^9 = 512\n"
     ]
    }
   ],
   "source": [
    "# Esercizio Calcolare e stampare tutte le prime 10 potenze di 2 (e.g., 2⁰, 2¹, 2², …) utilizzando un ciclo while.\n",
    "# Inizializziamo la variabile contatore\n",
    "potenza = 0\n",
    "\n",
    "# Utilizziamo un ciclo while per calcolare e stampare le prime 10 potenze di 2\n",
    "while potenza < 10:\n",
    "    # Calcoliamo 2 alla potenza di 'potenza'\n",
    "    risultato = 2 ** potenza\n",
    "    # Stampiamo il risultato\n",
    "    print(f\"2^{potenza} = {risultato}\")\n",
    "    # Incrementiamo la variabile di 1 ad ogni iterazione\n",
    "    potenza += 1\n"
   ]
  },
  {
   "cell_type": "code",
   "execution_count": 8,
   "id": "058e16e4-bb50-42d6-88bc-581e24856810",
   "metadata": {},
   "outputs": [
    {
     "name": "stdin",
     "output_type": "stream",
     "text": [
      "Inserisci il valore di N:  4\n"
     ]
    },
    {
     "name": "stdout",
     "output_type": "stream",
     "text": [
      "2^0 = 1\n",
      "2^1 = 2\n",
      "2^2 = 4\n",
      "2^3 = 8\n"
     ]
    }
   ],
   "source": [
    "# Esercizio Calcolare e stampare tutte le prime N potenze di 2 utilizzando un ciclo while, domandando all'utente di inserire N.\n",
    "# Chiediamo all'utente di inserire il valore di N\n",
    "N = int(input(\"Inserisci il valore di N: \"))\n",
    "\n",
    "# Inizializziamo la variabile contatore\n",
    "potenza = 0\n",
    "\n",
    "# Utilizziamo un ciclo while per calcolare e stampare le prime N potenze di 2\n",
    "while potenza < N:\n",
    "    # Calcoliamo 2 alla potenza di 'potenza'\n",
    "    risultato = 2 ** potenza\n",
    "    # Stampiamo il risultato\n",
    "    print(f\"2^{potenza} = {risultato}\")\n",
    "    # Incrementiamo la variabile di 1 ad ogni iterazione\n",
    "    potenza += 1\n"
   ]
  },
  {
   "cell_type": "code",
   "execution_count": 10,
   "id": "cb1e2290-7762-4f45-adcf-2de43b4374b0",
   "metadata": {},
   "outputs": [
    {
     "name": "stdout",
     "output_type": "stream",
     "text": [
      "2^0 = 1\n",
      "2^1 = 2\n",
      "2^2 = 4\n",
      "2^3 = 8\n",
      "2^4 = 16\n",
      "2^5 = 32\n",
      "2^6 = 64\n",
      "2^7 = 128\n",
      "2^8 = 256\n",
      "2^9 = 512\n",
      "2^10 = 1024\n",
      "2^11 = 2048\n",
      "2^12 = 4096\n",
      "2^13 = 8192\n",
      "2^14 = 16384\n"
     ]
    }
   ],
   "source": [
    "# Esercizio Calcolare e stampare tutte le potenze di 2 minori di 25000.\n",
    "# Inizializziamo la variabile contatore\n",
    "potenza = 0\n",
    "\n",
    "# Utilizziamo un ciclo while per calcolare e stampare le potenze di 2 minori di 25000\n",
    "while True:\n",
    "    # Calcoliamo 2 alla potenza di 'potenza'\n",
    "    risultato = 2 ** potenza\n",
    "    # Se il risultato è maggiore o uguale a 25000, interrompiamo il ciclo\n",
    "    if risultato >= 25000:\n",
    "        break\n",
    "    # Stampiamo il risultato\n",
    "    print(f\"2^{potenza} = {risultato}\")\n",
    "    # Incrementiamo la variabile di 1 ad ogni iterazione\n",
    "    potenza += 1\n"
   ]
  },
  {
   "cell_type": "code",
   "execution_count": 12,
   "id": "d1191d21-3ae2-43dd-ad3e-aa2fd09f9bd9",
   "metadata": {},
   "outputs": [
    {
     "name": "stdout",
     "output_type": "stream",
     "text": [
      "Alex è iscritto al corso di Cybersecurity\n",
      "Bob è iscritto al corso di Data Analyst\n",
      "Cindy è iscritto al corso di Backend\n",
      "Dan è iscritto al corso di Frontend\n",
      "Emma è iscritto al corso di Data Analyst\n",
      "Faith è iscritto al corso di Backend\n"
     ]
    }
   ],
   "source": [
    "# Esercizio (1/2) Abbiamo due liste, una di studenti e una di corsi: studenti = [\"Alex\", \"Bob\", \"Cindy\", \"Dan\", \"Emma\", \"Faith\", \"Grace\", \"Henry\"] corsi = [\"Cybersecurity\", \"Data Analyst\", \"Backend\", \"Frontend\", \"Data Analyst\", \"Backend\"]\n",
    "# Liste degli studenti e dei corsi\n",
    "studenti = [\"Alex\", \"Bob\", \"Cindy\", \"Dan\", \"Emma\", \"Faith\", \"Grace\", \"Henry\"]\n",
    "corsi = [\"Cybersecurity\", \"Data Analyst\", \"Backend\", \"Frontend\", \"Data Analyst\", \"Backend\"]\n",
    "\n",
    "# Determiniamo la lunghezza della lista più corta\n",
    "num_studenti = min(len(studenti), len(corsi))\n",
    "\n",
    "# Inizializziamo il contatore\n",
    "i = 0\n",
    "\n",
    "# Utilizziamo un ciclo while per stampare gli studenti con i loro rispettivi corsi\n",
    "while i < num_studenti:\n",
    "    print(f\"{studenti[i]} è iscritto al corso di {corsi[i]}\")\n",
    "    i += 1\n"
   ]
  },
  {
   "cell_type": "code",
   "execution_count": 14,
   "id": "1839721f-c1fe-4611-8798-bebf1f9b98f2",
   "metadata": {},
   "outputs": [
    {
     "name": "stdout",
     "output_type": "stream",
     "text": [
      "Le liste NON sono della stessa lunghezza.\n",
      "Lista dei corsi aggiornata:\n",
      "['Cybersecurity', 'Data Analyst', 'Backend', 'Frontend', 'Data Analyst', 'Backend']\n"
     ]
    }
   ],
   "source": [
    "# Esercizio (2/2) Aggiungere i dati mancanti alla lista corsi, sapendo che Emma segue Data Analyst Faith segue Backend Grace segue Frontend Henry segue Cybersecurity Aggiungeremo i dati mancanti uno alla volta con il metodo per appendere in coda alle liste, poi verificheremo che sono della stessa lunghezza e se lo sono stamperemo la lista corsi. Se alcuni dati sono già presenti non vanno aggiunti di nuovo.\n",
    "# Liste degli studenti e dei corsi\n",
    "studenti = [\"Alex\", \"Bob\", \"Cindy\", \"Dan\", \"Emma\", \"Faith\", \"Grace\", \"Henry\"]\n",
    "corsi = [\"Cybersecurity\", \"Data Analyst\", \"Backend\", \"Frontend\", \"Data Analyst\", \"Backend\"]\n",
    "\n",
    "# Dizionario con i dati mancanti\n",
    "dati_mancanti = {\n",
    "    \"Emma\": \"Data Analyst\",\n",
    "    \"Faith\": \"Backend\",\n",
    "    \"Grace\": \"Frontend\",\n",
    "    \"Henry\": \"Cybersecurity\"\n",
    "}\n",
    "\n",
    "# Aggiungiamo i dati mancanti uno alla volta\n",
    "for studente, corso in dati_mancanti.items():\n",
    "    # Aggiungiamo il corso solo se non è già presente\n",
    "    if studente in studenti and corso not in corsi:\n",
    "        corsi.append(corso)\n",
    "\n",
    "# Verifichiamo che le liste siano della stessa lunghezza\n",
    "if len(studenti) == len(corsi):\n",
    "    print(\"Le liste sono della stessa lunghezza.\")\n",
    "else:\n",
    "    print(\"Le liste NON sono della stessa lunghezza.\")\n",
    "\n",
    "# Stampa la lista dei corsi\n",
    "print(\"Lista dei corsi aggiornata:\")\n",
    "print(corsi)\n"
   ]
  },
  {
   "cell_type": "code",
   "execution_count": 16,
   "id": "14327328-a1e7-40e4-b185-fef940c7d652",
   "metadata": {},
   "outputs": [
    {
     "name": "stdin",
     "output_type": "stream",
     "text": [
      "Inserisci una stringa:  matematica\n"
     ]
    },
    {
     "name": "stdout",
     "output_type": "stream",
     "text": [
      "mat...ica\n"
     ]
    }
   ],
   "source": [
    "# Esercizio Scriviamo un programma che chiede in input all'utente una stringa e visualizza i primi 3 caratteri, seguiti da 3 punti di sospensione e quindi gli ultimi 3 caratteri, similmente all'esercizio della lezione scorsa. Stavolta facciamo attenzione a tutti i casi particolari, ovvero implementare soluzioni ad hoc per stringhe di lunghezza inferiore a 6 caratteri.\n",
    "# Chiediamo all'utente di inserire una stringa\n",
    "input_string = input(\"Inserisci una stringa: \")\n",
    "\n",
    "# Determiniamo la lunghezza della stringa\n",
    "length = len(input_string)\n",
    "\n",
    "# Gestione dei casi particolari\n",
    "if length < 3:\n",
    "    # Caso 1: Lunghezza minore di 3 caratteri\n",
    "    print(input_string)\n",
    "elif length < 6:\n",
    "    # Caso 2: Lunghezza compresa tra 3 e 5 caratteri\n",
    "    print(input_string)\n",
    "else:\n",
    "    # Caso 3: Lunghezza di 6 o più caratteri\n",
    "    output_string = input_string[:3] + \"...\" + input_string[-3:]\n",
    "    print(output_string)\n"
   ]
  },
  {
   "cell_type": "code",
   "execution_count": 18,
   "id": "7d9aa56f-5f6a-4ec7-9752-cef2f905868c",
   "metadata": {},
   "outputs": [
    {
     "name": "stdin",
     "output_type": "stream",
     "text": [
      "Inserisci un numero:  20\n"
     ]
    },
    {
     "name": "stdout",
     "output_type": "stream",
     "text": [
      "I fattori di 1 sono: [2, 2, 5]\n"
     ]
    }
   ],
   "source": [
    "# Esercizio Memorizza e stampa tutti i fattori di un numero dato in input. Esempio: • input: 150 • output: [2, 3, 5, 5]\n",
    "# Chiediamo all'utente di inserire un numero\n",
    "numero = int(input(\"Inserisci un numero: \"))\n",
    "\n",
    "# Inizializziamo una lista per memorizzare i fattori\n",
    "fattori = []\n",
    "\n",
    "# Troviamo i fattori del numero\n",
    "divisore = 2\n",
    "while numero > 1:\n",
    "    if numero % divisore == 0:\n",
    "        fattori.append(divisore)\n",
    "        numero //= divisore\n",
    "    else:\n",
    "        divisore += 1\n",
    "\n",
    "# Stampiamo la lista dei fattori\n",
    "print(\"I fattori di\", numero, \"sono:\", fattori)\n"
   ]
  },
  {
   "cell_type": "code",
   "execution_count": 20,
   "id": "3938c6ac-e500-47f0-b8f7-4d496a6a1a45",
   "metadata": {},
   "outputs": [
    {
     "name": "stdout",
     "output_type": "stream",
     "text": [
      "E\n",
      "p\n",
      "i\n",
      "c\n",
      "o\n",
      "d\n",
      "e\n"
     ]
    }
   ],
   "source": [
    "# Esercizio Abbiamo la stringa: nome_scuola = \"Epicode\" Stampare ogni carattere della stringa, uno su ogni riga, utilizzando un costrutto for.\n",
    "nome_scuola = \"Epicode\"\n",
    "\n",
    "# Itera attraverso ogni carattere della stringa\n",
    "for carattere in nome_scuola:\n",
    "    # Stampare il carattere corrente\n",
    "    print(carattere)\n"
   ]
  },
  {
   "cell_type": "code",
   "execution_count": 22,
   "id": "d4b891bf-543b-4253-a7ef-331f13fbce7b",
   "metadata": {},
   "outputs": [
    {
     "name": "stdout",
     "output_type": "stream",
     "text": [
      "1\n",
      "2\n",
      "4\n",
      "8\n",
      "16\n",
      "32\n",
      "64\n",
      "128\n",
      "256\n",
      "512\n"
     ]
    }
   ],
   "source": [
    "# Esercizio Calcolare e stampare tutte le prime 10 potenze di 2 utilizzando un ciclo. Utilizzeremo: • un ciclo per generare i primi 10 numeri, e.g.: range_numerico = list()  # init num = 1  # init while num <= 10: range_numerico.append(num) num += 1\n",
    "range_numerico = list()\n",
    "num = 0  # inizializziamo num a 0\n",
    "\n",
    "while num < 10:\n",
    "    potenza_di_2 = 2 ** num  # Calcoliamo la potenza di 2 corrente\n",
    "    print(potenza_di_2)      # Stampiamo la potenza di 2 corrente\n",
    "    num += 1                 # Incrementiamo il contatore\n"
   ]
  },
  {
   "cell_type": "code",
   "execution_count": 24,
   "id": "bc1a2b19-f515-4ed0-a853-983bfd455aae",
   "metadata": {},
   "outputs": [
    {
     "name": "stdin",
     "output_type": "stream",
     "text": [
      "Inserisci il numero di potenze da calcolare:  5\n",
      "Inserisci la base delle potenze:  3\n"
     ]
    },
    {
     "name": "stdout",
     "output_type": "stream",
     "text": [
      "Lista delle prime 5 potenze di 3 : [1, 3, 9, 27, 81]\n"
     ]
    }
   ],
   "source": [
    "# Esercizio Calcolare (ma non stampare) le prime N potenze di K; ognuna di esse andrà memorizzata in coda a una lista. Alla fine, stampare la lista risultante. Proviamo con diversi valori di K, oppure facciamola inserire all'utente. Realizzare due versioni: • con un ciclo while, • con un ciclo for.\n",
    "# Versione con ciclo while\n",
    "# Chiediamo all'utente i valori di N e K\n",
    "N = int(input(\"Inserisci il numero di potenze da calcolare: \"))\n",
    "K = int(input(\"Inserisci la base delle potenze: \"))\n",
    "\n",
    "potenze = []  # Lista per memorizzare le potenze\n",
    "\n",
    "num = 0\n",
    "while num < N:\n",
    "    potenza = K ** num\n",
    "    potenze.append(potenza)\n",
    "    num += 1\n",
    "\n",
    "print(\"Lista delle prime\", N, \"potenze di\", K, \":\", potenze)\n"
   ]
  },
  {
   "cell_type": "code",
   "execution_count": 26,
   "id": "e43d1d0c-74e5-49e1-bee6-7cd99a1c86f1",
   "metadata": {},
   "outputs": [
    {
     "name": "stdin",
     "output_type": "stream",
     "text": [
      "Inserisci il numero di potenze da calcolare:  5\n",
      "Inserisci la base delle potenze:  3\n"
     ]
    },
    {
     "name": "stdout",
     "output_type": "stream",
     "text": [
      "Lista delle prime 5 potenze di 3 : [1, 3, 9, 27, 81]\n"
     ]
    }
   ],
   "source": [
    "# Versione con ciclo for\n",
    "# Chiediamo all'utente i valori di N e K\n",
    "N = int(input(\"Inserisci il numero di potenze da calcolare: \"))\n",
    "K = int(input(\"Inserisci la base delle potenze: \"))\n",
    "\n",
    "potenze = []  # Lista per memorizzare le potenze\n",
    "\n",
    "for num in range(N):\n",
    "    potenza = K ** num\n",
    "    potenze.append(potenza)\n",
    "\n",
    "print(\"Lista delle prime\", N, \"potenze di\", K, \":\", potenze)\n"
   ]
  },
  {
   "cell_type": "code",
   "execution_count": 28,
   "id": "46f2af15-7f94-4bbe-ae4f-ceeb1c807cb6",
   "metadata": {},
   "outputs": [
    {
     "name": "stdout",
     "output_type": "stream",
     "text": [
      "La media dei guadagni degli ultimi 12 mesi è: 70.0\n"
     ]
    }
   ],
   "source": [
    "# Esercizio Abbiamo una lista con i guadagni degli ultimi 12 mesi: guadagni = [100, 90, 70, 40, 50, 80, 90, 120, 80, 20, 50, 50] usando un costrutto for, calcolare la media dei guadagni e stamparla a video.\n",
    "guadagni = [100, 90, 70, 40, 50, 80, 90, 120, 80, 20, 50, 50]\n",
    "\n",
    "# Inizializziamo la somma dei guadagni a zero\n",
    "somma_guadagni = 0\n",
    "\n",
    "# Iteriamo su ogni elemento della lista dei guadagni\n",
    "for guadagno in guadagni:\n",
    "    # Aggiungiamo il guadagno corrente alla somma\n",
    "    somma_guadagni += guadagno\n",
    "\n",
    "# Calcoliamo la media dividendo la somma per il numero di mesi\n",
    "media_guadagni = somma_guadagni / len(guadagni)\n",
    "\n",
    "# Stampiamo la media dei guadagni\n",
    "print(\"La media dei guadagni degli ultimi 12 mesi è:\", media_guadagni)\n"
   ]
  },
  {
   "cell_type": "code",
   "execution_count": 30,
   "id": "f3de4017-d12e-4dc2-9842-e0790022523a",
   "metadata": {},
   "outputs": [
    {
     "name": "stdout",
     "output_type": "stream",
     "text": [
      "Nella parola 'Albergo' la lettera 'e' appare 1 volte.\n",
      "Nella parola 'Sedia' la lettera 'e' appare 1 volte.\n",
      "Nella parola 'Borgo' la lettera 'e' appare 0 volte.\n",
      "Nella parola 'Petalo' la lettera 'e' appare 1 volte.\n",
      "Nella parola 'Eremo' la lettera 'e' appare 2 volte.\n",
      "Nella parola 'Belvedere' la lettera 'e' appare 4 volte.\n",
      "Nella parola 'Semestre' la lettera 'e' appare 3 volte.\n",
      "Nella parola 'Esteta' la lettera 'e' appare 2 volte.\n",
      "Nella parola 'Sosta' la lettera 'e' appare 0 volte.\n",
      "Nella parola 'Orpello' la lettera 'e' appare 1 volte.\n",
      "Nella parola 'Abete' la lettera 'e' appare 2 volte.\n",
      "Nella parola 'Orologio' la lettera 'e' appare 0 volte.\n",
      "Nella parola 'Cesta' la lettera 'e' appare 1 volte.\n",
      "Nella parola 'Ermellino' la lettera 'e' appare 2 volte.\n"
     ]
    }
   ],
   "source": [
    "# Esercizio Abbiamo una lista di parole: parole = [\"Albergo\", \"Sedia\", \"Borgo\", \"Petalo\", \"Eremo\", \"Belvedere\", \"Semestre\", \"Esteta\", \"Sosta\", \"Orpello\", \"Abete\", \"Orologio\", \"Cesta\", \"Ermellino\"] stampiamo, per ogni parola, quante volte appare la lettera \"e\"; facciamo attenzione al fatto che appare sia maiuscola che minuscola.\n",
    "parole = [\"Albergo\", \"Sedia\", \"Borgo\", \"Petalo\", \"Eremo\", \"Belvedere\", \"Semestre\", \"Esteta\", \"Sosta\", \"Orpello\", \"Abete\", \"Orologio\", \"Cesta\", \"Ermellino\"]\n",
    "\n",
    "for parola in parole:\n",
    "    # Contiamo quante volte appare la lettera 'e' sia maiuscola che minuscola nella parola corrente\n",
    "    conteggio_e = parola.lower().count('e')\n",
    "    # Stampiamo il risultato\n",
    "    print(f\"Nella parola '{parola}' la lettera 'e' appare {conteggio_e} volte.\")\n"
   ]
  },
  {
   "cell_type": "code",
   "execution_count": 32,
   "id": "a841bd14-ef02-4d7d-b42f-20e7901d90c9",
   "metadata": {},
   "outputs": [
    {
     "name": "stdout",
     "output_type": "stream",
     "text": [
      "Dizionario auto completo:\n",
      "{'Ada': 'Punto', 'Ben': 'Multipla', 'Charlie': 'Golf', 'Debbie': '107'}\n",
      "Auto di Debbie: 107\n"
     ]
    }
   ],
   "source": [
    "# Esercizio Creiamo un dizionario che assegni ad ogni proprietario la sua auto, sapendo che: • Ada guida una Punto • Ben guida una Multipla • Charlie guida una Golf • Debbie guida una 107 Stampiamo il dizionario per intero, e poi l'auto associata a Debbie.\n",
    "# Creiamo il dizionario\n",
    "dizionario_auto = {\n",
    "    \"Ada\": \"Punto\",\n",
    "    \"Ben\": \"Multipla\",\n",
    "    \"Charlie\": \"Golf\",\n",
    "    \"Debbie\": \"107\"\n",
    "}\n",
    "\n",
    "# Stampiamo il dizionario completo\n",
    "print(\"Dizionario auto completo:\")\n",
    "print(dizionario_auto)\n",
    "\n",
    "# Stampiamo l'auto associata a Debbie\n",
    "auto_debbie = dizionario_auto[\"Debbie\"]\n",
    "print(\"Auto di Debbie:\", auto_debbie)\n"
   ]
  },
  {
   "cell_type": "code",
   "execution_count": 34,
   "id": "fd5f3159-04d6-4ea2-8f45-60bbc24398cd",
   "metadata": {},
   "outputs": [
    {
     "name": "stdout",
     "output_type": "stream",
     "text": [
      "Auto che non sono una Multipla:\n",
      "Punto\n",
      "Golf\n",
      "107\n"
     ]
    }
   ],
   "source": [
    "# Esercizio Abbiamo un dizionario che assegna ad ogni proprietario la sua auto: dizionario_auto = {\"Ada\": \"Punto\", \"Ben\": \"Multipla\", \"Charlie\": \"Golf\", \"Debbie\": \"107\"} Con un ciclo, e usando il metodo .values(), stampiamo a video tutte le auto che non sono una Multipla.\n",
    "# Dizionario delle auto\n",
    "dizionario_auto = {\n",
    "    \"Ada\": \"Punto\",\n",
    "    \"Ben\": \"Multipla\",\n",
    "    \"Charlie\": \"Golf\",\n",
    "    \"Debbie\": \"107\"\n",
    "}\n",
    "\n",
    "# Stampiamo le auto che non sono una Multipla\n",
    "print(\"Auto che non sono una Multipla:\")\n",
    "for auto in dizionario_auto.values():\n",
    "    if auto != \"Multipla\":\n",
    "        print(auto)\n"
   ]
  },
  {
   "cell_type": "code",
   "execution_count": 36,
   "id": "61bddb1c-c711-4c0c-8463-d0959e75df38",
   "metadata": {},
   "outputs": [
    {
     "name": "stdout",
     "output_type": "stream",
     "text": [
      "Dizionario aggiornato:\n",
      "{'Ada': 'Punto', 'Ben': 'Polo', 'Charlie': 'Golf', 'Debbie': '107', 'Emily': 'A1', 'Fred': 'Octavia', 'Grace': 'Yaris', 'Hugh': 'Clio'}\n",
      "\n",
      "Auto di Ben dopo l'aggiornamento: Polo\n"
     ]
    }
   ],
   "source": [
    "# Esercizio Abbiamo due dizionari che assegnano ad ogni proprietario la propria auto: dizionario_auto = {\"Ada\": \"Punto\", \"Ben\": \"Multipla\", \"Charlie\": \"Golf\", \"Debbie\": \"107\", \"Emily\": \"A1\"} nuovi_proprietari = {\"Ben\": \"Polo\", \"Fred\": \"Octavia\", \"Grace\": \"Yaris\", \"Hugh\": \"Clio\"} Aggiornare il dizionario dizionario_auto con i dati contenuti in nuovi_proprietari e stamparlo. Cosa è successo a Ben?\n",
    "# Dizionari delle auto\n",
    "dizionario_auto = {\n",
    "    \"Ada\": \"Punto\",\n",
    "    \"Ben\": \"Multipla\",\n",
    "    \"Charlie\": \"Golf\",\n",
    "    \"Debbie\": \"107\",\n",
    "    \"Emily\": \"A1\"\n",
    "}\n",
    "\n",
    "nuovi_proprietari = {\n",
    "    \"Ben\": \"Polo\",\n",
    "    \"Fred\": \"Octavia\",\n",
    "    \"Grace\": \"Yaris\",\n",
    "    \"Hugh\": \"Clio\"\n",
    "}\n",
    "\n",
    "# Aggiorniamo il dizionario_auto con i dati da nuovi_proprietari\n",
    "dizionario_auto.update(nuovi_proprietari)\n",
    "\n",
    "# Stampiamo il dizionario aggiornato\n",
    "print(\"Dizionario aggiornato:\")\n",
    "print(dizionario_auto)\n",
    "\n",
    "# Stampa l'auto di Ben\n",
    "print(\"\\nAuto di Ben dopo l'aggiornamento:\", dizionario_auto.get(\"Ben\"))\n"
   ]
  },
  {
   "cell_type": "code",
   "execution_count": null,
   "id": "d597715d-3307-423a-8d24-5fed2a4dd60b",
   "metadata": {},
   "outputs": [],
   "source": [
    "# Esercizio Osservando la sintassi dei dizionari, possiamo notare qualche affinità con il formato JSON?\n",
    "# La sintassi dei dizionari in Python è simile a quelli JSON"
   ]
  },
  {
   "cell_type": "code",
   "execution_count": 38,
   "id": "41f187fd-f26a-4557-8e3b-8ea51dae93d0",
   "metadata": {},
   "outputs": [
    {
     "name": "stdout",
     "output_type": "stream",
     "text": [
      "Il valore minimo è: 3\n",
      "Il valore massimo è: 12\n"
     ]
    }
   ],
   "source": [
    "# Esercizio Scrivere un programma che, data una lista di numeri, fornisca in output il minimo e il massimo (possiamo usare o meno le funzioni built-in min() e max()).\n",
    "def trova_minimo_massimo(lista_numeri):\n",
    "    if not lista_numeri:\n",
    "        return None, None  # Se la lista è vuota, restituisce None per entrambi\n",
    "    minimo = massimo = lista_numeri[0]  # Inizializza minimo e massimo al primo elemento della lista\n",
    "    for numero in lista_numeri:\n",
    "        if numero < minimo:\n",
    "            minimo = numero\n",
    "        elif numero > massimo:\n",
    "            massimo = numero\n",
    "    return minimo, massimo\n",
    "\n",
    "# Esempio di utilizzo\n",
    "numeri = [10, 5, 8, 3, 12, 7]\n",
    "minimo, massimo = trova_minimo_massimo(numeri)\n",
    "print(\"Il valore minimo è:\", minimo)\n",
    "print(\"Il valore massimo è:\", massimo)\n"
   ]
  },
  {
   "cell_type": "code",
   "execution_count": 42,
   "id": "d6cdfc2e-494d-477a-a32d-4b0e61900bed",
   "metadata": {},
   "outputs": [
    {
     "name": "stdout",
     "output_type": "stream",
     "text": [
      "I tre numeri più grandi sono: [30, 25, 20]\n"
     ]
    }
   ],
   "source": [
    "# Esercizio Scrivere un programma che, data una lista di numeri, fornisca in output i tre numeri più grandi; gestire il caso in cui la lista sia più corta di tre, e quando uno o più dei numeri selezionati sono uguali.\n",
    "def tre_numeri_piu_grandi(lista_numeri):\n",
    "    # Ordina la lista in ordine decrescente\n",
    "    lista_ordinata = sorted(lista_numeri, reverse=True)\n",
    "    \n",
    "    # Se la lista ha tre elementi o meno, restituisci la lista stessa\n",
    "    if len(lista_ordinata) <= 3:\n",
    "        return lista_ordinata\n",
    "    \n",
    "    # Altrimenti, inizializza una lista vuota per i tre numeri più grandi\n",
    "    numeri_piu_grandi = []\n",
    "    \n",
    "    # Scorri la lista ordinata e aggiungi i tre numeri più grandi alla lista numeri_piu_grandi\n",
    "    for numero in lista_ordinata:\n",
    "        # Controlla se il numero è già presente nella lista numeri_piu_grandi\n",
    "        if numero not in numeri_piu_grandi:\n",
    "            numeri_piu_grandi.append(numero)\n",
    "        \n",
    "        # Se abbiamo già trovato i tre numeri più grandi, esci dal ciclo\n",
    "        if len(numeri_piu_grandi) == 3:\n",
    "            break\n",
    "            \n",
    "    # Restituisci i tre numeri più grandi\n",
    "    return numeri_piu_grandi\n",
    "\n",
    "# Lista di numeri di esempio\n",
    "numeri = [10, 5, 20, 10, 30, 30, 15, 25]\n",
    "\n",
    "# Trova i tre numeri più grandi nella lista\n",
    "risultato = tre_numeri_piu_grandi(numeri)\n",
    "\n",
    "# Stampa i risultati\n",
    "print(\"I tre numeri più grandi sono:\", risultato)\n",
    "\n"
   ]
  },
  {
   "cell_type": "code",
   "execution_count": 44,
   "id": "8161112f-255e-4628-8143-00ec698b95e3",
   "metadata": {},
   "outputs": [
    {
     "name": "stdout",
     "output_type": "stream",
     "text": [
      "La media dei numeri maggiori o uguali a 30 è: 40.0\n"
     ]
    }
   ],
   "source": [
    "# Esercizio Scrivere un programma che • in input acquisisce una lista di numeri e un numero K • in output, dovrà restituire la media di tutti i numeri nella lista maggiori o uguali a K • se non ce ne dovesse essere nessuno, dovrà stampare a schermo un messaggio adeguato.\n",
    "def media_numeri_maggiore_uquali(lista_numeri, k):\n",
    "    # Inizializza una variabile per la somma e un contatore per i numeri maggiori o uguali a K\n",
    "    somma = 0\n",
    "    count = 0\n",
    "\n",
    "    # Itera attraverso la lista di numeri\n",
    "    for numero in lista_numeri:\n",
    "        # Se il numero è maggiore o uguale a K, aggiungilo alla somma\n",
    "        if numero >= k:\n",
    "            somma += numero\n",
    "            count += 1\n",
    "\n",
    "    # Se non ci sono numeri maggiori o uguali a K, stampa un messaggio e restituisci None\n",
    "    if count == 0:\n",
    "        print(\"Nessun numero maggiore o uguale a K trovato.\")\n",
    "        return None\n",
    "\n",
    "    # Calcola la media dei numeri maggiori o uguali a K\n",
    "    media = somma / count\n",
    "    return media\n",
    "\n",
    "# Input: lista di numeri e numero K\n",
    "lista_numeri = [10, 20, 30, 40, 50]\n",
    "K = 30\n",
    "\n",
    "# Calcola la media dei numeri maggiori o uguali a K\n",
    "media = media_numeri_maggiore_uquali(lista_numeri, K)\n",
    "\n",
    "# Se la media non è None, stampa il risultato\n",
    "if media is not None:\n",
    "    print(f\"La media dei numeri maggiori o uguali a {K} è: {media}\")\n"
   ]
  },
  {
   "cell_type": "code",
   "execution_count": 46,
   "id": "2cf95a57-70de-411c-9f07-638904fbb163",
   "metadata": {},
   "outputs": [
    {
     "name": "stdout",
     "output_type": "stream",
     "text": [
      "*****\n",
      "**\n",
      "***\n",
      "****\n"
     ]
    }
   ],
   "source": [
    "# Esercizio Scrivere un programma che, data una lista di numeri, come output stamperà lo stesso numero di asterischi su righe diverse, ottenendo una semplice visualizzazione grafica Esempio, supponendo di avere il seguente input: numeri = [5, 2, 3, 4] L'output sarà: ***** ** *** ****\n",
    "def stampa_istogramma(numeri):\n",
    "    for numero in numeri:\n",
    "        # Stampa il numero corrente di asterischi\n",
    "        print('*' * numero)\n",
    "\n",
    "# Lista di numeri di esempio\n",
    "numeri = [5, 2, 3, 4]\n",
    "\n",
    "# Stampare l'istogramma\n",
    "stampa_istogramma(numeri)\n"
   ]
  },
  {
   "cell_type": "code",
   "execution_count": 56,
   "id": "284339a2-16e3-4de8-95f2-75f12eef0a18",
   "metadata": {},
   "outputs": [
    {
     "name": "stdout",
     "output_type": "stream",
     "text": [
      "Codici fiscali che contengono '95':\n",
      "ABCDEF95G01A123B\n",
      "STUVWX95Z04A654E\n",
      "DEFGHI95J06A987G\n",
      "\n",
      "Nome e Cognome dai codici fiscali:\n",
      "Nome: ABCDEF, Cognome: 95G01A123\n",
      "Nome: STUVWX, Cognome: 95Z04A654\n",
      "Nome: DEFGHI, Cognome: 95J06A987\n"
     ]
    }
   ],
   "source": [
    "# Esercizio Abbiamo una lista di codici fiscali: lista_cf = [\"ABCDEF95G01A123B\", \"GHIJKL91M02A321C\", \"MNOPQR89S03A456D\", \"STUVWX95Z04A654E\", \"XYZABC01D05A789F\", \"DEFGHI95J06A987G\"] • trovare i codici fiscali che contengono \"95\", metterli in una lista, e alla fine stamparla; • inoltre, per ognuno di essi, stampare a video i caratteri relativi al nome e quelli relativi al cognome.\n",
    "# Sì, sicuramente c'è una similitudine con la logica SQL e le tabelle relazionali, specialmente quando si tratta di filtrare i dati in base a determinati criteri.\n",
    "lista_cf = [\"ABCDEF95G01A123B\", \"GHIJKL91M02A321C\", \"MNOPQR89S03A456D\", \"STUVWX95Z04A654E\", \"XYZABC01D05A789F\", \"DEFGHI95J06A987G\"]\n",
    "\n",
    "# Lista per memorizzare i codici fiscali che contengono \"95\"\n",
    "cf_con_95 = []\n",
    "\n",
    "# Trova i codici fiscali che contengono \"95\" e memorizzali nella lista cf_con_95\n",
    "for cf in lista_cf:\n",
    "    if \"95\" in cf:\n",
    "        cf_con_95.append(cf)\n",
    "\n",
    "# Stampare i codici fiscali che contengono \"95\"\n",
    "print(\"Codici fiscali che contengono '95':\")\n",
    "for cf in cf_con_95:\n",
    "    print(cf)\n",
    "\n",
    "# Per ogni codice fiscale che contiene \"95\", stampare nome e cognome\n",
    "print(\"\\nNome e Cognome dai codici fiscali:\")\n",
    "for cf in cf_con_95:\n",
    "    nome = cf[0:6]\n",
    "    cognome = cf[6:15]\n",
    "    print(f\"Nome: {nome}, Cognome: {cognome}\")\n"
   ]
  },
  {
   "cell_type": "code",
   "execution_count": 54,
   "id": "9b82caea-d4a0-44e5-8a7b-9579995267f4",
   "metadata": {},
   "outputs": [
    {
     "name": "stdout",
     "output_type": "stream",
     "text": [
      "Studenti che frequentano una prima edizione:\n",
      "Alex\n",
      "Faith\n"
     ]
    }
   ],
   "source": [
    "# Esercizio Abbiamo tre liste della stessa lunghezza, dove ogni elemento nella medesima posizione si riferisce ai dati dello stesso studente: studenti = [\"Alex\", \"Bob\", \"Cindy\", \"Dan\", \"Emma\", \"Faith\", \"Grace\", \"Henry\"] corsi = [\"Cybersecurity\", \"Data Analyst\", \"Backend\", \"Frontend\", \"Data Analyst\", \"Backend\", \"Frontend\", \"Cybersecurity\"] edizioni = [1, 2, 3, 2, 2, 1, 3, 3] • Stampare a video tutti e soli gli studenti che frequentano una prima edizione; non tutti i dati potrebbero essere necessari. 25 • Riuscite a vedere una similarità con la logica che si usa in SQL e le tabelle relazionali?\n",
    "studenti = [\"Alex\", \"Bob\", \"Cindy\", \"Dan\", \"Emma\", \"Faith\", \"Grace\", \"Henry\"]\n",
    "corsi = [\"Cybersecurity\", \"Data Analyst\", \"Backend\", \"Frontend\", \"Data Analyst\", \"Backend\", \"Frontend\", \"Cybersecurity\"]\n",
    "edizioni = [1, 2, 3, 2, 2, 1, 3, 3]\n",
    "\n",
    "# Stampare gli studenti che frequentano una prima edizione (edizione == 1)\n",
    "print(\"Studenti che frequentano una prima edizione:\")\n",
    "for i in range(len(studenti)):\n",
    "    if edizioni[i] == 1:\n",
    "        print(studenti[i])\n"
   ]
  },
  {
   "cell_type": "code",
   "execution_count": 58,
   "id": "36a90dff-a9ac-469f-8c24-920730becb43",
   "metadata": {},
   "outputs": [
    {
     "name": "stdout",
     "output_type": "stream",
     "text": [
      "Prezzi corretti:\n",
      "100 $\n",
      "200 $\n",
      "500 $\n",
      "10 $\n",
      "50 $\n",
      "70 $\n"
     ]
    }
   ],
   "source": [
    "# Esercizio Abbiamo una lista di stringhe di prezzi in dollari, che erroneamente sono stati scritti con il simbolo dell'euro: prezzi = [\"100 €\", \"200 €\", \"500 €\", \"10 €\", \"50 €\", \"70 €\"] cambiare il simbolo dell'euro (€) in quello del dollaro ($) per ogni stringa nella lista; il risultato sarà memorizzato in un'altra lista.\n",
    "prezzi = [\"100 €\", \"200 €\", \"500 €\", \"10 €\", \"50 €\", \"70 €\"]\n",
    "\n",
    "# Lista per memorizzare i prezzi corretti\n",
    "prezzi_corretti = []\n",
    "\n",
    "# Sostituire il simbolo dell'euro con quello del dollaro per ogni stringa\n",
    "for prezzo in prezzi:\n",
    "    prezzo_corretto = prezzo.replace(\"€\", \"$\")\n",
    "    prezzi_corretti.append(prezzo_corretto)\n",
    "\n",
    "# Stampare la lista dei prezzi corretti\n",
    "print(\"Prezzi corretti:\")\n",
    "for prezzo in prezzi_corretti:\n",
    "    print(prezzo)\n"
   ]
  },
  {
   "cell_type": "code",
   "execution_count": 60,
   "id": "0ead3f2d-4b99-455d-b825-061a8ffa6384",
   "metadata": {},
   "outputs": [
    {
     "name": "stdout",
     "output_type": "stream",
     "text": [
      "Squadra Pari: ['Alex', 'Cindy', 'Emma', 'Grace', 'Isabelle']\n",
      "Squadra Dispari: ['Bob', 'Dan', 'Faith', 'Henry', 'John']\n"
     ]
    }
   ],
   "source": [
    "# Esercizio Abbiamo una lista di studenti: studenti = [\"Alex\", \"Bob\", \"Cindy\", \"Dan\", \"Emma\", \"Faith\", \"Grace\", \"Henry\", \"Isabelle\", \"John\"] vogliamo dividere gli studenti in due squadre per un campionato di Uno nel seguente modo: selezioneremo i nomi in posizione pari per un squadra, e i nomi in posizione dispari per l'altra. Creiamo due liste per ogni squadra, e alla fine visualizziamole.\n",
    "studenti = [\"Alex\", \"Bob\", \"Cindy\", \"Dan\", \"Emma\", \"Faith\", \"Grace\", \"Henry\", \"Isabelle\", \"John\"]\n",
    "\n",
    "# Inizializziamo le liste per le due squadre\n",
    "squadra_pari = []\n",
    "squadra_dispari = []\n",
    "\n",
    "# Dividiamo gli studenti in base alla loro posizione nella lista\n",
    "for i, studente in enumerate(studenti):\n",
    "    if i % 2 == 0:\n",
    "        squadra_pari.append(studente)\n",
    "    else:\n",
    "        squadra_dispari.append(studente)\n",
    "\n",
    "# Stampiamo le due squadre\n",
    "print(\"Squadra Pari:\", squadra_pari)\n",
    "print(\"Squadra Dispari:\", squadra_dispari)\n"
   ]
  },
  {
   "cell_type": "code",
   "execution_count": 62,
   "id": "37dc5ecb-a5ac-4f76-b307-e5d0b40db414",
   "metadata": {},
   "outputs": [
    {
     "name": "stdout",
     "output_type": "stream",
     "text": [
      "Mese 1 : 100 € (la media non può essere calcolata)\n",
      "Mese 2 : 90 € (media prec: 71.82 € - il guadagno attuale è maggiore)\n",
      "Mese 3 : 70 € (media prec: 71.82 € - il guadagno attuale è minore)\n",
      "Mese 4 : 40 € (media prec: 71.82 € - il guadagno attuale è minore)\n",
      "Mese 5 : 50 € (media prec: 71.82 € - il guadagno attuale è minore)\n",
      "Mese 6 : 80 € (media prec: 71.82 € - il guadagno attuale è maggiore)\n",
      "Mese 7 : 90 € (media prec: 71.82 € - il guadagno attuale è maggiore)\n",
      "Mese 8 : 120 € (media prec: 71.82 € - il guadagno attuale è maggiore)\n",
      "Mese 9 : 80 € (media prec: 71.82 € - il guadagno attuale è maggiore)\n",
      "Mese 10 : 20 € (media prec: 71.82 € - il guadagno attuale è minore)\n",
      "Mese 11 : 50 € (media prec: 71.82 € - il guadagno attuale è minore)\n",
      "Mese 12 : 50 € (media prec: 71.82 € - il guadagno attuale è minore)\n"
     ]
    }
   ],
   "source": [
    "# Esercizio Abbiamo una lista con i guadagni degli ultimi 12 mesi (supponiamo da Gennaio a Dicembre): guadagni = [100, 90, 70, 40, 50, 80, 90, 120, 80, 20, 50, 50] dobbiamo confrontare, stampando tutto a video, il guadagno di ogni mese con la media dei guadagni precedenti, e specificare nell'output se il guadagno attuale è maggiore o minore della media dei precedenti. Esempio di un possibile output: Mese 1: 100 € Mese 2: 90 € (media prec: 100 € - il guadagno attuale è minore) Mese 3: 70 € (media prec: 95 € - il guadagno attuale è minore)\n",
    "guadagni = [100, 90, 70, 40, 50, 80, 90, 120, 80, 20, 50, 50]\n",
    "\n",
    "# Calcoliamo la media dei guadagni precedenti\n",
    "media_precedente = guadagni[0]  # La media del primo mese è il guadagno stesso\n",
    "for i in range(1, len(guadagni)):\n",
    "    media_precedente = sum(guadagni[:i]) / i\n",
    "\n",
    "# Confrontiamo il guadagno di ogni mese con la media precedente\n",
    "for i, guadagno in enumerate(guadagni, start=1):\n",
    "    print(\"Mese\", i, \":\", guadagno, \"€\", end=\" \")\n",
    "    if i > 1:\n",
    "        print(\"(media prec:\", round(media_precedente, 2), \"€\", end=\" - \")\n",
    "        if guadagno > media_precedente:\n",
    "            print(\"il guadagno attuale è maggiore)\")\n",
    "        elif guadagno < media_precedente:\n",
    "            print(\"il guadagno attuale è minore)\")\n",
    "        else:\n",
    "            print(\"il guadagno attuale è uguale)\")\n",
    "    else:\n",
    "        print(\"(la media non può essere calcolata)\")\n"
   ]
  },
  {
   "cell_type": "code",
   "execution_count": null,
   "id": "fef01c35-8358-45ff-85ac-83303ea6ab22",
   "metadata": {},
   "outputs": [],
   "source": []
  }
 ],
 "metadata": {
  "kernelspec": {
   "display_name": "Python 3 (ipykernel)",
   "language": "python",
   "name": "python3"
  },
  "language_info": {
   "codemirror_mode": {
    "name": "ipython",
    "version": 3
   },
   "file_extension": ".py",
   "mimetype": "text/x-python",
   "name": "python",
   "nbconvert_exporter": "python",
   "pygments_lexer": "ipython3",
   "version": "3.11.7"
  }
 },
 "nbformat": 4,
 "nbformat_minor": 5
}
